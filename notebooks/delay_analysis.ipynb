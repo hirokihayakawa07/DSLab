{
 "cells": [
  {
   "cell_type": "markdown",
   "metadata": {},
   "source": [
    "# Analyze delays based on historical data\n",
    "\n",
    "In this notebook, we try to come up with a sensible estimation of the delay of every type of connection or trip by analysing the historical data on the public transport system of Zurich. This delay probability will play a key role in our predictive model given that it is based on an exponential distribution. Therefore , it is essential to have a good estimation and that is why we calculate three different levels of probabilities. The notebook is structured as follows: \n",
    "\n",
    "*   **[Start Spark](#spark)** \n",
    "*   **[Load and filter historical SBB data](#sbb)**  \n",
    "*   **[Three-level delay probability](#prob)** \n",
    "*   **[Final probability](#final)**\n",
    "\n"
   ]
  },
  {
   "cell_type": "markdown",
   "metadata": {},
   "source": [
    "<a id = 'spark'></a>\n",
    "### 1. Start Spark\n",
    "\n",
    "We will be using a Spark Session for performing different transformations and actions on dataframes"
   ]
  },
  {
   "cell_type": "code",
   "execution_count": 63,
   "metadata": {},
   "outputs": [
    {
     "name": "stdout",
     "output_type": "stream",
     "text": [
      "Starting Spark application\n"
     ]
    },
    {
     "data": {
      "text/html": [
       "<table>\n",
       "<tr><th>ID</th><th>YARN Application ID</th><th>Kind</th><th>State</th><th>Spark UI</th><th>Driver log</th><th>Current session?</th></tr><tr><td>8318</td><td>application_1589299642358_2850</td><td>pyspark</td><td>idle</td><td><a target=\"_blank\" href=\"http://iccluster044.iccluster.epfl.ch:8088/proxy/application_1589299642358_2850/\">Link</a></td><td><a target=\"_blank\" href=\"http://iccluster072.iccluster.epfl.ch:8042/node/containerlogs/container_e06_1589299642358_2850_01_000001/ebouille\">Link</a></td><td>✔</td></tr></table>"
      ],
      "text/plain": [
       "<IPython.core.display.HTML object>"
      ]
     },
     "metadata": {},
     "output_type": "display_data"
    },
    {
     "data": {
      "application/vnd.jupyter.widget-view+json": {
       "model_id": "",
       "version_major": 2,
       "version_minor": 0
      },
      "text/plain": [
       "FloatProgress(value=0.0, bar_style='info', description='Progress:', layout=Layout(height='25px', width='50%'),…"
      ]
     },
     "metadata": {},
     "output_type": "display_data"
    },
    {
     "name": "stdout",
     "output_type": "stream",
     "text": [
      "SparkSession available as 'spark'.\n"
     ]
    },
    {
     "data": {
      "text/html": [
       "Current session configs: <tt>{'conf': {'spark.app.name': 'datavirus_delay_analysis', 'spark.executor.memory': '2g', 'spark.executor.instances': '64'}, 'kind': 'pyspark'}</tt><br>"
      ],
      "text/plain": [
       "<IPython.core.display.HTML object>"
      ]
     },
     "metadata": {},
     "output_type": "display_data"
    },
    {
     "data": {
      "text/html": [
       "<table>\n",
       "<tr><th>ID</th><th>YARN Application ID</th><th>Kind</th><th>State</th><th>Spark UI</th><th>Driver log</th><th>Current session?</th></tr><tr><td>8293</td><td>application_1589299642358_2825</td><td>pyspark</td><td>idle</td><td><a target=\"_blank\" href=\"http://iccluster044.iccluster.epfl.ch:8088/proxy/application_1589299642358_2825/\">Link</a></td><td><a target=\"_blank\" href=\"http://iccluster069.iccluster.epfl.ch:8042/node/containerlogs/container_e06_1589299642358_2825_01_000001/ebouille\">Link</a></td><td></td></tr><tr><td>8295</td><td>application_1589299642358_2827</td><td>pyspark</td><td>idle</td><td><a target=\"_blank\" href=\"http://iccluster044.iccluster.epfl.ch:8088/proxy/application_1589299642358_2827/\">Link</a></td><td><a target=\"_blank\" href=\"http://iccluster072.iccluster.epfl.ch:8042/node/containerlogs/container_e06_1589299642358_2827_01_000001/ebouille\">Link</a></td><td></td></tr><tr><td>8302</td><td>application_1589299642358_2834</td><td>pyspark</td><td>busy</td><td><a target=\"_blank\" href=\"http://iccluster044.iccluster.epfl.ch:8088/proxy/application_1589299642358_2834/\">Link</a></td><td><a target=\"_blank\" href=\"http://iccluster069.iccluster.epfl.ch:8042/node/containerlogs/container_e06_1589299642358_2834_01_000001/ebouille\">Link</a></td><td></td></tr><tr><td>8305</td><td>application_1589299642358_2837</td><td>pyspark</td><td>idle</td><td><a target=\"_blank\" href=\"http://iccluster044.iccluster.epfl.ch:8088/proxy/application_1589299642358_2837/\">Link</a></td><td><a target=\"_blank\" href=\"http://iccluster067.iccluster.epfl.ch:8042/node/containerlogs/container_e06_1589299642358_2837_01_000001/ebouille\">Link</a></td><td></td></tr><tr><td>8306</td><td>application_1589299642358_2838</td><td>pyspark</td><td>idle</td><td><a target=\"_blank\" href=\"http://iccluster044.iccluster.epfl.ch:8088/proxy/application_1589299642358_2838/\">Link</a></td><td><a target=\"_blank\" href=\"http://iccluster066.iccluster.epfl.ch:8042/node/containerlogs/container_e06_1589299642358_2838_01_000001/ebouille\">Link</a></td><td></td></tr><tr><td>8310</td><td>application_1589299642358_2842</td><td>pyspark</td><td>idle</td><td><a target=\"_blank\" href=\"http://iccluster044.iccluster.epfl.ch:8088/proxy/application_1589299642358_2842/\">Link</a></td><td><a target=\"_blank\" href=\"http://iccluster067.iccluster.epfl.ch:8042/node/containerlogs/container_e06_1589299642358_2842_01_000001/ebouille\">Link</a></td><td></td></tr><tr><td>8312</td><td>application_1589299642358_2844</td><td>pyspark</td><td>busy</td><td><a target=\"_blank\" href=\"http://iccluster044.iccluster.epfl.ch:8088/proxy/application_1589299642358_2844/\">Link</a></td><td><a target=\"_blank\" href=\"http://iccluster065.iccluster.epfl.ch:8042/node/containerlogs/container_e06_1589299642358_2844_01_000001/ebouille\">Link</a></td><td></td></tr><tr><td>8315</td><td>application_1589299642358_2847</td><td>pyspark</td><td>idle</td><td><a target=\"_blank\" href=\"http://iccluster044.iccluster.epfl.ch:8088/proxy/application_1589299642358_2847/\">Link</a></td><td><a target=\"_blank\" href=\"http://iccluster069.iccluster.epfl.ch:8042/node/containerlogs/container_e06_1589299642358_2847_01_000001/ebouille\">Link</a></td><td></td></tr><tr><td>8316</td><td>application_1589299642358_2848</td><td>pyspark</td><td>busy</td><td><a target=\"_blank\" href=\"http://iccluster044.iccluster.epfl.ch:8088/proxy/application_1589299642358_2848/\">Link</a></td><td><a target=\"_blank\" href=\"http://iccluster067.iccluster.epfl.ch:8042/node/containerlogs/container_e06_1589299642358_2848_01_000001/ebouille\">Link</a></td><td></td></tr><tr><td>8317</td><td>application_1589299642358_2849</td><td>pyspark</td><td>idle</td><td><a target=\"_blank\" href=\"http://iccluster044.iccluster.epfl.ch:8088/proxy/application_1589299642358_2849/\">Link</a></td><td><a target=\"_blank\" href=\"http://iccluster072.iccluster.epfl.ch:8042/node/containerlogs/container_e06_1589299642358_2849_01_000001/ebouille\">Link</a></td><td></td></tr><tr><td>8318</td><td>application_1589299642358_2850</td><td>pyspark</td><td>idle</td><td><a target=\"_blank\" href=\"http://iccluster044.iccluster.epfl.ch:8088/proxy/application_1589299642358_2850/\">Link</a></td><td><a target=\"_blank\" href=\"http://iccluster072.iccluster.epfl.ch:8042/node/containerlogs/container_e06_1589299642358_2850_01_000001/ebouille\">Link</a></td><td>✔</td></tr></table>"
      ],
      "text/plain": [
       "<IPython.core.display.HTML object>"
      ]
     },
     "metadata": {},
     "output_type": "display_data"
    }
   ],
   "source": [
    "%%configure -f\n",
    "{\n",
    "    \"conf\": {\n",
    "        \"spark.app.name\": \"datavirus_delay_analysis\",\n",
    "    }\n",
    "}"
   ]
  },
  {
   "cell_type": "code",
   "execution_count": 64,
   "metadata": {},
   "outputs": [
    {
     "data": {
      "application/vnd.jupyter.widget-view+json": {
       "model_id": "",
       "version_major": 2,
       "version_minor": 0
      },
      "text/plain": [
       "FloatProgress(value=0.0, bar_style='info', description='Progress:', layout=Layout(height='25px', width='50%'),…"
      ]
     },
     "metadata": {},
     "output_type": "display_data"
    },
    {
     "name": "stdout",
     "output_type": "stream",
     "text": [
      "<pyspark.sql.session.SparkSession object at 0x7f0b7d6c75d0>"
     ]
    }
   ],
   "source": [
    "# Initialization\n",
    "spark"
   ]
  },
  {
   "cell_type": "code",
   "execution_count": 66,
   "metadata": {},
   "outputs": [
    {
     "data": {
      "application/vnd.jupyter.widget-view+json": {
       "model_id": "",
       "version_major": 2,
       "version_minor": 0
      },
      "text/plain": [
       "FloatProgress(value=0.0, bar_style='info', description='Progress:', layout=Layout(height='25px', width='50%'),…"
      ]
     },
     "metadata": {},
     "output_type": "display_data"
    }
   ],
   "source": [
    "import pyspark.sql.functions as f"
   ]
  },
  {
   "cell_type": "markdown",
   "metadata": {},
   "source": [
    "<a id = 'sbb'></a>\n",
    "### 2.Load and filter the historical SBB data\n",
    "\n",
    "All historical data is loaded. We filter out irrelevant data and we compute the delay between expected arrival time and real (if AN_PROGNOSE STATUS = REAL) arrival time or estimated (if AN_PROGNOSE STATUS = PROGNOSE) arrival time for every stop in every trip. Of couse, we only take into consideratiosn stops within 15 km of Zurich"
   ]
  },
  {
   "cell_type": "code",
   "execution_count": 67,
   "metadata": {},
   "outputs": [
    {
     "data": {
      "application/vnd.jupyter.widget-view+json": {
       "model_id": "",
       "version_major": 2,
       "version_minor": 0
      },
      "text/plain": [
       "FloatProgress(value=0.0, bar_style='info', description='Progress:', layout=Layout(height='25px', width='50%'),…"
      ]
     },
     "metadata": {},
     "output_type": "display_data"
    }
   ],
   "source": [
    "sbb = spark.read.orc('/data/sbb/orc/istdaten')"
   ]
  },
  {
   "cell_type": "code",
   "execution_count": 70,
   "metadata": {},
   "outputs": [
    {
     "data": {
      "application/vnd.jupyter.widget-view+json": {
       "model_id": "",
       "version_major": 2,
       "version_minor": 0
      },
      "text/plain": [
       "FloatProgress(value=0.0, bar_style='info', description='Progress:', layout=Layout(height='25px', width='50%'),…"
      ]
     },
     "metadata": {},
     "output_type": "display_data"
    }
   ],
   "source": [
    "sbb_filtered = (\n",
    "    sbb\n",
    "    \n",
    "    # filter out any trips that we are not interested in\n",
    "    .where(sbb.zusatzfahrt_tf == 'false')\n",
    "    .where(sbb.faellt_aus_tf == 'false')\n",
    "    .where(sbb.durchfahrt_tf == 'false')\n",
    "    .where(sbb.ankunftszeit.isNotNull())\n",
    "    .where(sbb.an_prognose.isNotNull())\n",
    "    .where(sbb.an_prognose_status.isin('REAL', 'PROGNOSE'))\n",
    "    .where(sbb.betreiber_id.substr(0, 2) == '85')\n",
    "    \n",
    "    # convert produkt_id to lowercase\n",
    "    .withColumn('produkt_id', f.lower(sbb.produkt_id))\n",
    "    .where(f.col('produkt_id').isin('bus', 'tram', 'zug'))\n",
    "    \n",
    "    # create `id` column that is used\n",
    "    # to identify trips from this dataframe\n",
    "    # with trips in the connections dataframe\n",
    "    .withColumn(\n",
    "        'id',\n",
    "        f.when(f.col('produkt_id') == 'zug', f.concat_ws(':', sbb.betreiber_id, sbb.linien_id))\n",
    "        .otherwise(f.concat_ws(':', sbb.betreiber_id, sbb.linien_text))\n",
    "    )\n",
    "    \n",
    "    # calculate delay\n",
    "    .withColumn('ankunftszeit_ts', f.unix_timestamp(f.col('ankunftszeit'), \"dd.MM.yyyy HH:mm\").cast('long'))\n",
    "    .withColumn('an_prognose_ts', f.unix_timestamp(f.col('an_prognose'), \"dd.MM.yyyy HH:mm:ss\").cast('long'))\n",
    "    .withColumn('delay', f.col('an_prognose_ts') - f.col('ankunftszeit_ts'))\n",
    "    .where(f.col('delay').isNotNull())\n",
    "    \n",
    "    # sometimes there are more multiple REAL and PROGNOSE values for the exactly same trip on the same day\n",
    "    # and time. There is no way which one is the closest to the actual arrival time of the train so we \n",
    "    # just drop all duplicates and keep one \"randomly\".\n",
    "    \n",
    "    .repartition(150, 'id')\n",
    "    \n",
    "    .select(['betriebstag', 'id', 'produkt_id', 'linien_text', 'bpuic', 'ankunftszeit', 'an_prognose_status', 'delay'])\n",
    "    .dropDuplicates(['id', 'betriebstag', 'bpuic', 'ankunftszeit', 'an_prognose_status'])\n",
    ")"
   ]
  },
  {
   "cell_type": "code",
   "execution_count": 74,
   "metadata": {},
   "outputs": [
    {
     "data": {
      "application/vnd.jupyter.widget-view+json": {
       "model_id": "",
       "version_major": 2,
       "version_minor": 0
      },
      "text/plain": [
       "FloatProgress(value=0.0, bar_style='info', description='Progress:', layout=Layout(height='25px', width='50%'),…"
      ]
     },
     "metadata": {},
     "output_type": "display_data"
    }
   ],
   "source": [
    "# remove all stations that are not in 15km radius around zurich \n",
    "\n",
    "stations = spark.read.csv(\"../data/zurich_stations_ids.csv\")\n",
    "stations = (\n",
    "    stations\n",
    "    .select(stations._c0.alias('stop_id'))\n",
    ")\n",
    "stop_ids = [row['stop_id'] for row in stations.collect()]\n",
    "stop_ids = spark.sparkContext.broadcast(stop_ids)\n",
    "\n",
    "\n",
    "sbb_zurich = (\n",
    "    sbb_filtered.\n",
    "    where(sbb_filtered.bpuic.isin(stop_ids.value))\n",
    ")"
   ]
  },
  {
   "cell_type": "code",
   "execution_count": 76,
   "metadata": {},
   "outputs": [
    {
     "data": {
      "application/vnd.jupyter.widget-view+json": {
       "model_id": "",
       "version_major": 2,
       "version_minor": 0
      },
      "text/plain": [
       "FloatProgress(value=0.0, bar_style='info', description='Progress:', layout=Layout(height='25px', width='50%'),…"
      ]
     },
     "metadata": {},
     "output_type": "display_data"
    }
   ],
   "source": [
    "delays = (\n",
    "    sbb_zurich\n",
    "    \n",
    "    # for each trip we only kept one REAL and one PROGNOSE row\n",
    "    # now we aggregate them into a single same row\n",
    "    .groupBy(['id', 'ankunftszeit', 'bpuic'])\n",
    "    .agg(\n",
    "        f.first('produkt_id').alias('produkt_id'),\n",
    "        f.first('linien_text').alias('linien_text'),\n",
    "        f.first(f.when(f.col('an_prognose_status') == 'REAL', f.col('delay')).otherwise(None)).alias('real_delay'),\n",
    "        f.first(f.when(f.col('an_prognose_status') == 'PROGNOSE', f.col('delay')).otherwise(None)).alias('prognose_delay'),\n",
    "    )\n",
    "    \n",
    "    # if there is REAL delay we select it, otherwise we take the PROGNOSE delay \n",
    "    .withColumn('delay', f.when(f.col('real_delay').isNotNull(), f.col('real_delay')).otherwise(f.col('prognose_delay')))\n",
    "    .withColumn('is_delayed', f.when(f.col('delay') > 0, 1).otherwise(0))\n",
    "    \n",
    "    # create extra columns that contain time without date\n",
    "    .withColumn('ankunftszeit_minute', f.col('ankunftszeit').substr(12, 5))\n",
    "    .withColumn('ankunftszeit_hour', f.col('ankunftszeit').substr(12, 2))\n",
    "    .cache()\n",
    ")"
   ]
  },
  {
   "cell_type": "markdown",
   "metadata": {},
   "source": [
    "<a id = 'prob'></a>\n",
    "### 3.Three-level delay probability\n",
    "\n",
    "The delay probabilities are calculated in three different levels, as follows:\n",
    "\n",
    "- Low-level probability (most detailed one) -->  Different parameter for every: <code>line, station, minute of the day</code> \n",
    "- Medium-level probability --> Different parameter  for every: <code>line, hour of the day </code>\n",
    "- High level probability --> Different parameter for every <code> transport_type, hour of the day</code>"
   ]
  },
  {
   "cell_type": "code",
   "execution_count": 77,
   "metadata": {},
   "outputs": [
    {
     "data": {
      "application/vnd.jupyter.widget-view+json": {
       "model_id": "",
       "version_major": 2,
       "version_minor": 0
      },
      "text/plain": [
       "FloatProgress(value=0.0, bar_style='info', description='Progress:', layout=Layout(height='25px', width='50%'),…"
      ]
     },
     "metadata": {},
     "output_type": "display_data"
    }
   ],
   "source": [
    "id_probability = (\n",
    "    delays\n",
    "    \n",
    "    .groupBy(['id', 'ankunftszeit_minute', 'bpuic'])\n",
    "    \n",
    "    .agg(\n",
    "        f.first('produkt_id').alias('produkt_id'),\n",
    "        f.first('linien_text').alias('linien_text'),\n",
    "        f.mean(delays.is_delayed).alias('id_delay_probability'),\n",
    "        (1.0 / f.mean(f.when(delays.is_delayed == 1, f.when(delays.delay > 30*60, 30*60).otherwise(delays.delay)))).alias('id_delay_parameter'),\n",
    "        f.count(delays.delay).alias('id_n')\n",
    "    )\n",
    ")\n",
    "\n",
    "id_probability.write.format('orc').save('/user/datavirus/id_probability.orc', mode='overwrite')"
   ]
  },
  {
   "cell_type": "code",
   "execution_count": 81,
   "metadata": {},
   "outputs": [
    {
     "data": {
      "application/vnd.jupyter.widget-view+json": {
       "model_id": "",
       "version_major": 2,
       "version_minor": 0
      },
      "text/plain": [
       "FloatProgress(value=0.0, bar_style='info', description='Progress:', layout=Layout(height='25px', width='50%'),…"
      ]
     },
     "metadata": {},
     "output_type": "display_data"
    }
   ],
   "source": [
    "line_probability = (\n",
    "    delays\n",
    "    \n",
    "    .groupBy(['id', 'ankunftszeit_hour'])\n",
    "    \n",
    "    .agg(\n",
    "        f.mean(delays.is_delayed).alias('line_delay_probability'),\n",
    "        (1.0 / f.mean(f.when(delays.is_delayed == 1, f.when(delays.delay > 30*60, 30*60).otherwise(delays.delay)))).alias('line_delay_parameter'),\n",
    "        f.count(delays.delay).alias('line_n')\n",
    "    )\n",
    "    \n",
    ")\n",
    "line_probability.write.format('orc').save('/user/datavirus/line_probability.orc', mode='overwrite')"
   ]
  },
  {
   "cell_type": "code",
   "execution_count": 84,
   "metadata": {},
   "outputs": [
    {
     "data": {
      "application/vnd.jupyter.widget-view+json": {
       "model_id": "",
       "version_major": 2,
       "version_minor": 0
      },
      "text/plain": [
       "FloatProgress(value=0.0, bar_style='info', description='Progress:', layout=Layout(height='25px', width='50%'),…"
      ]
     },
     "metadata": {},
     "output_type": "display_data"
    }
   ],
   "source": [
    "transport_probability = (\n",
    "    delays\n",
    "    \n",
    "    .groupBy(['ankunftszeit_hour', 'produkt_id'])\n",
    "    \n",
    "    .agg(\n",
    "        f.mean(delays.is_delayed).alias('transport_delay_probability'),\n",
    "        (1.0 / f.mean(f.when(delays.is_delayed == 1, f.when(delays.delay > 30*60, 30*60).otherwise(delays.delay)))).alias('transport_delay_parameter'),\n",
    "        f.count(delays.delay).alias('transport_n')\n",
    "    )\n",
    ")\n",
    "transport_probability.write.format('orc').save('/user/datavirus/transport_probability.orc', mode='overwrite')"
   ]
  },
  {
   "cell_type": "markdown",
   "metadata": {},
   "source": [
    "<a id = 'final'></a>\n",
    "### 4.Final probability\n",
    "\n",
    "For each connection in our connections dataframe we check whether the most detailed probability data has enough data points **(>500)**. If this is the case we assume that the calculated probabilities are good and use them for that  connection. If there is not enough data we move one level of detail lower and check if there is enough data (again >500 points). If this is the case we use that data. Otherwise we use the <code>transport_type, hour of day</code>  data that covers all the remaining connections."
   ]
  },
  {
   "cell_type": "code",
   "execution_count": 88,
   "metadata": {},
   "outputs": [
    {
     "data": {
      "application/vnd.jupyter.widget-view+json": {
       "model_id": "",
       "version_major": 2,
       "version_minor": 0
      },
      "text/plain": [
       "FloatProgress(value=0.0, bar_style='info', description='Progress:', layout=Layout(height='25px', width='50%'),…"
      ]
     },
     "metadata": {},
     "output_type": "display_data"
    }
   ],
   "source": [
    "full_probability = (\n",
    "    id_probability\n",
    "    .withColumn('ankunftszeit_hour', f.col('ankunftszeit_minute').substr(0, 2))\n",
    "    .join(f.broadcast(line_probability), ['id', 'ankunftszeit_hour'])\n",
    "    .join(f.broadcast(transport_probability), ['produkt_id', 'ankunftszeit_hour'])\n",
    "    .select(\n",
    "        id_probability.id,\n",
    "        id_probability.ankunftszeit_minute.alias('arrival_time_minute'),\n",
    "        id_probability.bpuic.alias('station_id'),\n",
    "        id_probability.produkt_id.alias('transport_type'),\n",
    "        id_probability.linien_text.alias('line_text'),\n",
    "        id_probability.id_delay_probability,\n",
    "        id_probability.id_delay_parameter,\n",
    "        id_probability.id_n,\n",
    "        line_probability.line_delay_probability,\n",
    "        line_probability.line_delay_parameter,\n",
    "        line_probability.line_n,\n",
    "        transport_probability.transport_delay_probability,\n",
    "        transport_probability.transport_delay_parameter,\n",
    "        transport_probability.transport_n,\n",
    "    )\n",
    ")\n",
    "full_probability.write.format('orc').save('/user/datavirus/full_probability.orc', mode='overwrite')"
   ]
  },
  {
   "cell_type": "code",
   "execution_count": 92,
   "metadata": {},
   "outputs": [
    {
     "data": {
      "application/vnd.jupyter.widget-view+json": {
       "model_id": "",
       "version_major": 2,
       "version_minor": 0
      },
      "text/plain": [
       "FloatProgress(value=0.0, bar_style='info', description='Progress:', layout=Layout(height='25px', width='50%'),…"
      ]
     },
     "metadata": {},
     "output_type": "display_data"
    }
   ],
   "source": [
    "probability = (\n",
    "    full_probability\n",
    "    .select(\n",
    "        full_probability.id,\n",
    "        full_probability.arrival_time_minute,\n",
    "        full_probability.station_id,\n",
    "        full_probability.transport_type,\n",
    "        full_probability.line_text,\n",
    "        (\n",
    "            f.when(full_probability.id_n > 500, full_probability.id_delay_probability)\n",
    "            .otherwise(\n",
    "                f.when(full_probability.line_n > 500, full_probability.line_delay_probability)\n",
    "                .otherwise(full_probability.transport_delay_probability)\n",
    "            )\n",
    "        ).alias('delay_probability'),\n",
    "        (\n",
    "            f.when(full_probability.id_n > 500, full_probability.id_delay_parameter)\n",
    "            .otherwise(\n",
    "                f.when(full_probability.line_n > 500, full_probability.line_delay_parameter)\n",
    "                .otherwise(full_probability.transport_delay_parameter)\n",
    "            )\n",
    "        ).alias('delay_parameter')  \n",
    "    )\n",
    ")\n",
    "probability.write.format('orc').save('/user/datavirus/probability.orc', mode='overwrite')"
   ]
  },
  {
   "cell_type": "code",
   "execution_count": 95,
   "metadata": {},
   "outputs": [
    {
     "data": {
      "application/vnd.jupyter.widget-view+json": {
       "model_id": "",
       "version_major": 2,
       "version_minor": 0
      },
      "text/plain": [
       "FloatProgress(value=0.0, bar_style='info', description='Progress:', layout=Layout(height='25px', width='50%'),…"
      ]
     },
     "metadata": {},
     "output_type": "display_data"
    },
    {
     "name": "stdout",
     "output_type": "stream",
     "text": [
      "+-----------+-------------------+----------+--------------+---------+-------------------+--------------------+\n",
      "|id         |arrival_time_minute|station_id|transport_type|line_text|delay_probability  |delay_parameter     |\n",
      "+-----------+-------------------+----------+--------------+---------+-------------------+--------------------+\n",
      "|85:11:13792|01:47              |8503126   |zug           |SN9      |0.8125874125874126 |0.0127487766879512  |\n",
      "|85:11:13792|01:51              |8503127   |zug           |SN9      |0.8125874125874126 |0.0127487766879512  |\n",
      "|85:11:13792|01:54              |8503128   |zug           |SN9      |0.8125874125874126 |0.0127487766879512  |\n",
      "|85:11:13792|01:58              |8503147   |zug           |SN9      |0.8125874125874126 |0.0127487766879512  |\n",
      "|85:11:13792|02:03              |8503003   |zug           |SN9      |0.7451117318435754 |0.012608716203441103|\n",
      "|85:11:13792|02:06              |8503000   |zug           |SN9      |0.7451117318435754 |0.012608716203441103|\n",
      "|85:11:13792|02:10              |8503020   |zug           |SN9      |0.7451117318435754 |0.012608716203441103|\n",
      "|85:11:13792|02:15              |8503006   |zug           |SN9      |0.7451117318435754 |0.012608716203441103|\n",
      "|85:11:13792|02:18              |8503310   |zug           |SN9      |0.7451117318435754 |0.012608716203441103|\n",
      "|85:11:13792|02:20              |8503311   |zug           |SN9      |0.7451117318435754 |0.012608716203441103|\n",
      "|85:11:13792|02:25              |8503312   |zug           |SN9      |0.7451117318435754 |0.012608716203441103|\n",
      "|85:11:13792|02:27              |8503313   |zug           |SN9      |0.7451117318435754 |0.012608716203441103|\n",
      "|85:11:14016|04:48              |8503204   |zug           |S        |0.8081359816653935 |0.010517697192529984|\n",
      "|85:11:14016|04:51              |8503203   |zug           |S        |0.8081359816653935 |0.010517697192529984|\n",
      "|85:11:14016|04:54              |8503202   |zug           |S        |0.8081359816653935 |0.010517697192529984|\n",
      "|85:11:14016|04:56              |8503201   |zug           |S        |0.8081359816653935 |0.010517697192529984|\n",
      "|85:11:14016|04:59              |8503200   |zug           |S        |0.8081359816653935 |0.010517697192529984|\n",
      "|85:11:14016|05:02              |8503009   |zug           |S        |0.8183014206884802 |0.015700728739292645|\n",
      "|85:11:14016|05:05              |8503010   |zug           |S        |0.8183014206884802 |0.015700728739292645|\n",
      "|85:11:14016|05:07              |8503011   |zug           |S        |0.8183014206884802 |0.015700728739292645|\n",
      "|85:11:14016|05:12              |8503000   |zug           |S        |0.8183014206884802 |0.015700728739292645|\n",
      "|85:11:14016|05:18              |8503006   |zug           |S        |0.8183014206884802 |0.015700728739292645|\n",
      "|85:11:14016|05:24              |8503016   |zug           |S        |0.8183014206884802 |0.015700728739292645|\n",
      "|85:11:14060|15:47              |8503203   |zug           |S24      |0.8229764472710196 |0.014770271373540382|\n",
      "|85:11:14060|15:51              |8503202   |zug           |S24      |0.8229764472710196 |0.014770271373540382|\n",
      "|85:11:14060|15:53              |8503201   |zug           |S24      |0.8229764472710196 |0.014770271373540382|\n",
      "|85:11:14060|15:55              |8503200   |zug           |S24      |0.8229764472710196 |0.014770271373540382|\n",
      "|85:11:14060|15:58              |8503009   |zug           |S24      |0.8229764472710196 |0.014770271373540382|\n",
      "|85:11:14060|16:02              |8503010   |zug           |S24      |0.858545437538001  |0.012455941741301647|\n",
      "|85:11:14060|16:04              |8503011   |zug           |S24      |0.858545437538001  |0.012455941741301647|\n",
      "|85:11:14060|16:09              |8503000   |zug           |S24      |0.858545437538001  |0.012455941741301647|\n",
      "|85:11:14060|16:17              |8503015   |zug           |S24      |0.858545437538001  |0.012455941741301647|\n",
      "|85:11:14060|16:21              |8503006   |zug           |S24      |0.858545437538001  |0.012455941741301647|\n",
      "|85:11:14060|16:26              |8503016   |zug           |S24      |0.858545437538001  |0.012455941741301647|\n",
      "|85:11:14060|16:31              |8503307   |zug           |S24      |0.858545437538001  |0.012455941741301647|\n",
      "|85:11:14060|16:36              |8503305   |zug           |S24      |0.858545437538001  |0.012455941741301647|\n",
      "|85:11:18533|08:52              |8502224   |zug           |S5       |0.6974358974358974 |0.01219694478490927 |\n",
      "|85:11:18533|08:55              |8502223   |zug           |S5       |0.8307692307692308 |0.012389741497986028|\n",
      "|85:11:18533|08:59              |8502222   |zug           |S5       |0.7551369863013698 |0.012930655329130626|\n",
      "|85:11:18533|09:04              |8502221   |zug           |S5       |0.8369939707149009 |0.012991093063284371|\n",
      "|85:11:18533|09:05              |8502221   |zug           |S5       |0.8369939707149009 |0.012991093063284371|\n",
      "|85:11:18533|09:07              |8502229   |zug           |S5       |1.0                |0.009248536573758268|\n",
      "|85:11:18533|09:09              |8502220   |zug           |S5       |1.0                |0.00841865099420947 |\n",
      "|85:11:18533|09:15              |8503001   |zug           |S5       |0.5524956970740104 |0.011445074339501551|\n",
      "|85:11:18533|09:18              |8503020   |zug           |S5       |0.9982638888888888 |0.014424765440770659|\n",
      "|85:11:18533|09:21              |8503000   |zug           |S5       |0.7900172117039587 |0.01845077782690839 |\n",
      "|85:11:18533|09:26              |8503003   |zug           |S5       |0.8369939707149009 |0.012991093063284371|\n",
      "|85:11:18533|09:27              |8503003   |zug           |S5       |0.8369939707149009 |0.012991093063284371|\n",
      "|85:11:18533|09:31              |8503147   |zug           |S5       |0.8369939707149009 |0.012991093063284371|\n",
      "|85:11:18533|09:38              |8503125   |zug           |S5       |0.8369939707149009 |0.012991093063284371|\n",
      "|85:11:18533|09:39              |8503125   |zug           |S5       |0.8369939707149009 |0.012991093063284371|\n",
      "|85:11:18727|07:09              |8503304   |zug           |S7       |1.0                |0.007352848599307522|\n",
      "|85:11:18727|07:13              |8503305   |zug           |S7       |0.9982876712328768 |0.007457245551874544|\n",
      "|85:11:18727|07:18              |8503307   |zug           |S7       |0.8134409436597858 |0.010418944547597937|\n",
      "|85:11:18727|07:19              |8503307   |zug           |S7       |0.8134409436597858 |0.010418944547597937|\n",
      "|85:11:18727|07:24              |8503308   |zug           |S7       |0.3100511073253833 |0.011933643695495377|\n",
      "|85:11:18727|07:26              |8503309   |zug           |S7       |1.0                |0.017037703538153426|\n",
      "|85:11:18727|07:29              |8503340   |zug           |S7       |0.7938671209540034 |0.024350734179861   |\n",
      "|85:11:18727|07:32              |8503006   |zug           |S7       |0.9574105621805792 |0.012453465697571352|\n",
      "|85:11:18727|07:36              |8503020   |zug           |S7       |0.8134409436597858 |0.010418944547597937|\n",
      "|85:11:18727|07:37              |8503020   |zug           |S7       |0.8134409436597858 |0.010418944547597937|\n",
      "|85:11:18727|07:40              |8503000   |zug           |S7       |0.7713310580204779 |0.009933192686357244|\n",
      "|85:11:18727|07:44              |8503003   |zug           |S7       |0.7667238421955404 |0.011740603577338271|\n",
      "|85:11:18727|07:47              |8503004   |zug           |S7       |0.8134409436597858 |0.010418944547597937|\n",
      "|85:11:18727|07:50              |8503101   |zug           |S7       |0.8134409436597858 |0.010418944547597937|\n",
      "|85:11:18727|07:54              |8503103   |zug           |S7       |0.8134409436597858 |0.010418944547597937|\n",
      "|85:11:18727|07:57              |8503104   |zug           |S7       |0.7569444444444444 |0.008692704906593298|\n",
      "|85:11:18736|10:02              |8503104   |zug           |S7       |0.9586919104991394 |0.04715942765218864 |\n",
      "|85:11:18736|10:11              |8503004   |zug           |S7       |0.7599875641224934 |0.02425243566085283 |\n",
      "|85:11:18736|10:12              |8503004   |zug           |S7       |0.7599875641224934 |0.02425243566085283 |\n",
      "|85:11:18736|10:14              |8503003   |zug           |S7       |0.8256410256410256 |0.02132356187364796 |\n",
      "|85:11:18736|10:17              |8503000   |zug           |S7       |0.9897435897435898 |0.021070635758215366|\n",
      "|85:11:18736|10:21              |8503020   |zug           |S7       |1.0                |0.02304147465437788 |\n",
      "|85:11:18736|10:26              |8503006   |zug           |S7       |0.9435897435897436 |0.028711120357848743|\n",
      "|85:11:18736|10:29              |8503340   |zug           |S7       |0.7599875641224934 |0.02425243566085283 |\n",
      "|85:11:18736|10:30              |8503340   |zug           |S7       |0.7599875641224934 |0.02425243566085283 |\n",
      "|85:11:18736|10:31              |8503309   |zug           |S7       |0.7599875641224934 |0.02425243566085283 |\n",
      "|85:11:18736|10:32              |8503309   |zug           |S7       |0.7599875641224934 |0.02425243566085283 |\n",
      "|85:11:18736|10:35              |8503308   |zug           |S7       |0.18461538461538463|0.021052631578947368|\n",
      "|85:11:18736|10:39              |8503307   |zug           |S7       |0.8                |0.044121806354294336|\n",
      "|85:11:18736|10:44              |8503305   |zug           |S7       |0.7599875641224934 |0.02425243566085283 |\n",
      "|85:11:18736|10:45              |8503305   |zug           |S7       |0.7599875641224934 |0.02425243566085283 |\n",
      "|85:11:18736|10:48              |8503304   |zug           |S7       |0.7599875641224934 |0.02425243566085283 |\n",
      "|85:11:18736|10:50              |8503304   |zug           |S7       |0.7599875641224934 |0.02425243566085283 |\n",
      "|85:11:18771|18:09              |8503304   |zug           |S7       |1.0                |0.007280884232687536|\n",
      "|85:11:18771|18:13              |8503305   |zug           |S7       |0.9982788296041308 |0.007558874509650597|\n",
      "|85:11:18771|18:18              |8503307   |zug           |S7       |0.7968263845675171 |0.011567769240845382|\n",
      "|85:11:18771|18:19              |8503307   |zug           |S7       |0.7968263845675171 |0.011567769240845382|\n",
      "|85:11:18771|18:24              |8503308   |zug           |S7       |0.28205128205128205|0.012941176470588237|\n",
      "|85:11:18771|18:26              |8503309   |zug           |S7       |0.9982905982905983 |0.018436089276130947|\n",
      "|85:11:18771|18:29              |8503340   |zug           |S7       |0.6923076923076923 |0.02810743285446596 |\n",
      "|85:11:18771|18:32              |8503006   |zug           |S7       |0.9401709401709402 |0.01457455547605798 |\n",
      "|85:11:18771|18:36              |8503020   |zug           |S7       |0.7968263845675171 |0.011567769240845382|\n",
      "|85:11:18771|18:37              |8503020   |zug           |S7       |0.7968263845675171 |0.011567769240845382|\n",
      "|85:11:18771|18:40              |8503000   |zug           |S7       |0.747008547008547  |0.012857479110274215|\n",
      "|85:11:18771|18:44              |8503003   |zug           |S7       |0.7773972602739726 |0.013083950546125248|\n",
      "|85:11:18771|18:47              |8503004   |zug           |S7       |0.7968263845675171 |0.011567769240845382|\n",
      "|85:11:18771|18:50              |8503101   |zug           |S7       |0.7968263845675171 |0.011567769240845382|\n",
      "|85:11:18771|18:53              |8503103   |zug           |S7       |0.7968263845675171 |0.011567769240845382|\n",
      "|85:11:18771|18:57              |8503104   |zug           |S7       |0.7227036395147314 |0.011367043750851846|\n",
      "+-----------+-------------------+----------+--------------+---------+-------------------+--------------------+\n",
      "only showing top 100 rows"
     ]
    }
   ],
   "source": [
    "probability.show(100, False)"
   ]
  }
 ],
 "metadata": {
  "kernelspec": {
   "display_name": "PySpark",
   "language": "",
   "name": "pysparkkernel"
  },
  "language_info": {
   "codemirror_mode": {
    "name": "python",
    "version": 3
   },
   "mimetype": "text/x-python",
   "name": "pyspark",
   "pygments_lexer": "python3"
  }
 },
 "nbformat": 4,
 "nbformat_minor": 4
}
